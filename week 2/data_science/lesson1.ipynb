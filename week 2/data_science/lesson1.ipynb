{
 "cells": [
  {
   "cell_type": "markdown",
   "metadata": {},
   "source": [
    "# Введение в Jupyter"
   ]
  },
  {
   "cell_type": "markdown",
   "metadata": {},
   "source": [
    "Что мы будем сегодня делать?\n",
    "\n",
    "* разберемся с типами ячеек\n",
    "* Поработаем с данными в формате  .csv"
   ]
  },
  {
   "cell_type": "code",
   "execution_count": 3,
   "metadata": {},
   "outputs": [],
   "source": [
    "my_string = 'Привет!'"
   ]
  },
  {
   "cell_type": "code",
   "execution_count": 4,
   "metadata": {
    "scrolled": true
   },
   "outputs": [
    {
     "data": {
      "text/plain": [
       "7"
      ]
     },
     "execution_count": 4,
     "metadata": {},
     "output_type": "execute_result"
    }
   ],
   "source": [
    "len(my_string)"
   ]
  },
  {
   "cell_type": "code",
   "execution_count": 5,
   "metadata": {
    "scrolled": true
   },
   "outputs": [
    {
     "data": {
      "text/plain": [
       "'При'"
      ]
     },
     "execution_count": 5,
     "metadata": {},
     "output_type": "execute_result"
    }
   ],
   "source": [
    "my_string[:3]"
   ]
  },
  {
   "cell_type": "code",
   "execution_count": 6,
   "metadata": {
    "scrolled": true
   },
   "outputs": [
    {
     "data": {
      "text/plain": [
       "'ПРИВЕТ!'"
      ]
     },
     "execution_count": 6,
     "metadata": {},
     "output_type": "execute_result"
    }
   ],
   "source": [
    "my_string.upper()"
   ]
  },
  {
   "cell_type": "code",
   "execution_count": 7,
   "metadata": {},
   "outputs": [
    {
     "name": "stdout",
     "output_type": "stream",
     "text": [
      " ’®¬ ў гбва®©бвўҐ C Ё¬ҐҐв ¬ҐвЄг OS_Install\n",
      " ‘ҐаЁ©­л© ­®¬Ґа в®¬ : 4411-9E7A\n",
      "\n",
      " ‘®¤Ґа¦Ё¬®Ґ Ї ЇЄЁ C:\\projects\\week 2\\data_science\n",
      "\n",
      "28.09.2019  18:52    <DIR>          .\n",
      "28.09.2019  18:52    <DIR>          ..\n",
      "28.09.2019  18:40    <DIR>          .ipynb_checkpoints\n",
      "28.09.2019  18:35    <DIR>          env\n",
      "28.09.2019  18:52             2я094 lesson1.ipynb\n",
      "               1 д ©«®ў          2я094 Ў ©в\n",
      "               4 Ї Ї®Є  463я684я759я552 Ў ©в бў®Ў®¤­®\n"
     ]
    }
   ],
   "source": [
    "!dir"
   ]
  },
  {
   "cell_type": "code",
   "execution_count": 8,
   "metadata": {},
   "outputs": [
    {
     "name": "stdout",
     "output_type": "stream",
     "text": [
      " ’®¬ ў гбва®©бвўҐ C Ё¬ҐҐв ¬ҐвЄг OS_Install\n",
      " ‘ҐаЁ©­л© ­®¬Ґа в®¬ : 4411-9E7A\n",
      "\n",
      " ‘®¤Ґа¦Ё¬®Ґ Ї ЇЄЁ C:\\projects\\week 2\\data_science\\env\n",
      "\n",
      "28.09.2019  18:35    <DIR>          .\n",
      "28.09.2019  18:35    <DIR>          ..\n",
      "28.09.2019  18:35    <DIR>          etc\n",
      "28.09.2019  18:32    <DIR>          Include\n",
      "28.09.2019  18:32    <DIR>          Lib\n",
      "28.09.2019  18:32                98 pyvenv.cfg\n",
      "28.09.2019  18:36    <DIR>          Scripts\n",
      "28.09.2019  18:35    <DIR>          share\n",
      "               1 д ©«®ў             98 Ў ©в\n",
      "               7 Ї Ї®Є  463я465я095я168 Ў ©в бў®Ў®¤­®\n"
     ]
    }
   ],
   "source": [
    "!dir env"
   ]
  },
  {
   "cell_type": "code",
   "execution_count": 10,
   "metadata": {},
   "outputs": [
    {
     "name": "stdout",
     "output_type": "stream",
     "text": [
      "Requirement already satisfied: requests in c:\\projects\\week 2\\data_science\\env\\lib\\site-packages (2.22.0)\n",
      "Requirement already satisfied: chardet<3.1.0,>=3.0.2 in c:\\projects\\week 2\\data_science\\env\\lib\\site-packages (from requests) (3.0.4)\n",
      "Requirement already satisfied: urllib3!=1.25.0,!=1.25.1,<1.26,>=1.21.1 in c:\\projects\\week 2\\data_science\\env\\lib\\site-packages (from requests) (1.25.6)\n",
      "Requirement already satisfied: certifi>=2017.4.17 in c:\\projects\\week 2\\data_science\\env\\lib\\site-packages (from requests) (2019.9.11)\n",
      "Requirement already satisfied: idna<2.9,>=2.5 in c:\\projects\\week 2\\data_science\\env\\lib\\site-packages (from requests) (2.8)\n"
     ]
    },
    {
     "name": "stderr",
     "output_type": "stream",
     "text": [
      "You are using pip version 19.0.3, however version 19.2.3 is available.\n",
      "You should consider upgrading via the 'python -m pip install --upgrade pip' command.\n"
     ]
    }
   ],
   "source": [
    "!pip install requests"
   ]
  },
  {
   "cell_type": "code",
   "execution_count": null,
   "metadata": {},
   "outputs": [],
   "source": []
  }
 ],
 "metadata": {
  "kernelspec": {
   "display_name": "Python 3",
   "language": "python",
   "name": "python3"
  },
  "language_info": {
   "codemirror_mode": {
    "name": "ipython",
    "version": 3
   },
   "file_extension": ".py",
   "mimetype": "text/x-python",
   "name": "python",
   "nbconvert_exporter": "python",
   "pygments_lexer": "ipython3",
   "version": "3.7.4"
  }
 },
 "nbformat": 4,
 "nbformat_minor": 2
}
